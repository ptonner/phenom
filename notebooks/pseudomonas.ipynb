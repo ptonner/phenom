{
 "cells": [
  {
   "cell_type": "code",
   "execution_count": 1,
   "metadata": {
    "autoscroll": false,
    "ein.hycell": false,
    "ein.tags": "worksheet-0",
    "slideshow": {
     "slide_type": "-"
    }
   },
   "outputs": [],
   "source": [
    "import matplotlib\n",
    "matplotlib.use('agg')"
   ]
  },
  {
   "cell_type": "code",
   "execution_count": 2,
   "metadata": {
    "autoscroll": false,
    "ein.hycell": false,
    "ein.tags": "worksheet-0",
    "slideshow": {
     "slide_type": "-"
    }
   },
   "outputs": [],
   "source": [
    "%matplotlib inline"
   ]
  },
  {
   "cell_type": "code",
   "execution_count": 3,
   "metadata": {
    "autoscroll": false,
    "ein.hycell": false,
    "ein.tags": "worksheet-0",
    "slideshow": {
     "slide_type": "-"
    }
   },
   "outputs": [],
   "source": [
    "import phenom\n",
    "import os\n",
    "import scipy\n",
    "import pandas as pd\n",
    "import numpy as np\n",
    "import matplotlib.pyplot as plt"
   ]
  },
  {
   "cell_type": "code",
   "execution_count": 8,
   "metadata": {
    "autoscroll": false,
    "ein.hycell": false,
    "ein.tags": "worksheet-0",
    "slideshow": {
     "slide_type": "-"
    }
   },
   "outputs": [],
   "source": [
    "formula = \"\"\"1 + C(mMAcid, Sum, levels=[5, 10, 20, 0]) \n",
    "               + C(pH, Sum, levels=[6.5, 6.0, 5.5, 5, 7]) \n",
    "               + C(mMAcid, Sum, levels=[5, 10, 20, 0]):C(pH, Sum, levels=[6.5, 6.0, 5.5, 5, 7])\"\"\""
   ]
  },
  {
   "cell_type": "markdown",
   "metadata": {
    "ein.tags": "worksheet-0",
    "slideshow": {
     "slide_type": "-"
    }
   },
   "source": [
    "# individual"
   ]
  },
  {
   "cell_type": "code",
   "execution_count": null,
   "metadata": {
    "autoscroll": false,
    "ein.hycell": false,
    "ein.tags": "worksheet-0",
    "slideshow": {
     "slide_type": "-"
    }
   },
   "outputs": [
    {
     "name": "stderr",
     "output_type": "stream",
     "text": [
      "INFO:pystan:COMPILING THE C++ CODE FOR MODEL anon_model_7226d8af40a102760f76e1d6f960daef NOW.\n"
     ]
    },
    {
     "name": "stdout",
     "output_type": "stream",
     "text": [
      "****************************************\n",
      "benzoate\n"
     ]
    }
   ],
   "source": [
    "for acid in [\"benzoate\", \"citric\", \"malic\"]:\n",
    "    ds = phenom.dataset.DataSet.fromDirectory(\"../data/pseudomonas/PA01-{}/\".format(acid))\n",
    "    meta = ds.meta\n",
    "    meta[\"mMAcid\"] = meta[\"mM-acid\"]\n",
    "\n",
    "    print(\"*\"*40)\n",
    "    print(acid)\n",
    "\n",
    "    for plate in meta.plate.unique():\n",
    "        m = meta.copy()\n",
    "        d = ds.data.copy()\n",
    "\n",
    "        select = m.plate == plate\n",
    "        m = m.loc[select,:]\n",
    "        d = d.loc[:, select]\n",
    "\n",
    "        mnull = phenom.design.Formula(m,formula)\n",
    "        hierarchy = phenom.design.Formula(m, \"1\") + phenom.design.Formula(m, \"C(plate) + 0\")\n",
    "        mbatch = mnull * hierarchy\n",
    "\n",
    "        phen = phenom.phenotype.Phenotype(d, mnull, model=\"phenom_deriv.stan\")\n",
    "        samples = phen.samples()\n",
    "        print(name)\n",
    "        print(samples)\n",
    "        phen.save(\"../samples/pseudomonas/{}/individual/{}\".format(acid, plate))\n",
    "        print()"
   ]
  },
  {
   "cell_type": "markdown",
   "metadata": {
    "ein.tags": "worksheet-0",
    "slideshow": {
     "slide_type": "-"
    }
   },
   "source": [
    "# full"
   ]
  },
  {
   "cell_type": "code",
   "execution_count": null,
   "metadata": {
    "autoscroll": false,
    "ein.hycell": false,
    "ein.tags": "worksheet-0",
    "slideshow": {
     "slide_type": "-"
    }
   },
   "outputs": [
    {
     "name": "stderr",
     "output_type": "stream",
     "text": [
      "INFO:pystan:COMPILING THE C++ CODE FOR MODEL anon_model_7226d8af40a102760f76e1d6f960daef NOW.\n"
     ]
    },
    {
     "name": "stdout",
     "output_type": "stream",
     "text": [
      "****************************************\n",
      "benzoate\n"
     ]
    }
   ],
   "source": [
    "for acid in [\"benzoate\", \"citric\", \"malic\"]:\n",
    "    ds = phenom.dataset.DataSet.fromDirectory(\"../data/pseudomonas/PA01-{}/\".format(acid))\n",
    "    meta = ds.meta\n",
    "    meta[\"mMAcid\"] = meta[\"mM-acid\"]\n",
    "\n",
    "    mnull = phenom.design.Formula(\n",
    "        ds.meta,\n",
    "        formula)\n",
    "    hierarchy = phenom.design.Formula(ds.meta, \"1\") + phenom.design.Formula(ds.meta, \"C(plate) + 0\")\n",
    "    mbatch = mnull * hierarchy\n",
    "\n",
    "    null_phen = phenom.phenotype.Phenotype(ds.data, mnull, model=\"phenom_deriv.stan\")\n",
    "    batch_phen = phenom.phenotype.Phenotype(ds.data, mbatch, model=\"phenom_deriv.stan\",\n",
    "                                        lengthscale_priors=[[2.5, 0.45]] * 4 + [[100, 20]] * 4, \n",
    "                                        alpha_priors= [[10, 10]] * 4 + [[7, 10]] * 4,\n",
    "                                        minExpectedCross=.01, maxExpectedCross=10,\n",
    "                                        sigma_prior=[.02, 20])\n",
    "\n",
    "    full_phen = phenom.phenotype.Phenotype(ds.data, \n",
    "                                        mbatch, model=\"phenom_marginal.stan\", \n",
    "                                        lengthscale_priors=[[2.5, 0.45]] * 4 + [[100, 20]] * 4, \n",
    "                                        alpha_priors= [[10, 10]] * 4 + [[7, 10]] * 4,\n",
    "                                        minExpectedCross=.01, maxExpectedCross=10,\n",
    "                                        sigma_prior=[.02, 20],\n",
    "                                        marginal_lengthscale_prior=[4, 1],\n",
    "                                        marginal_alpha_prior=[2, 20]\n",
    "                                        )\n",
    "\n",
    "    print(\"*\"*40)\n",
    "    print(acid)\n",
    "\n",
    "    for name, phen in [(\"null\", null_phen), (\"batch\", batch_phen), (\"full\", full_phen)]:\n",
    "        samples = phen.samples()\n",
    "        print(name)\n",
    "        print(samples)\n",
    "        phen.save(\"../samples/pseudomonas/{}/{}\".format(acid, name))\n",
    "        print()\n",
    "\n",
    "    print()"
   ]
  },
  {
   "cell_type": "code",
   "execution_count": null,
   "metadata": {
    "autoscroll": false,
    "ein.hycell": false,
    "ein.tags": "worksheet-0",
    "slideshow": {
     "slide_type": "-"
    }
   },
   "outputs": [],
   "source": []
  }
 ],
 "metadata": {
  "kernelspec": {
   "display_name": "Python 3",
   "language": "python",
   "name": "python3"
  },
  "language_info": {
   "codemirror_mode": {
    "name": "ipython",
    "version": 3
   },
   "file_extension": ".py",
   "mimetype": "text/x-python",
   "name": "python",
   "nbconvert_exporter": "python",
   "pygments_lexer": "ipython3",
   "version": "3.6.7"
  },
  "name": "pseudomonas.ipynb"
 },
 "nbformat": 4,
 "nbformat_minor": 2
}
