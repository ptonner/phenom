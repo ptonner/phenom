{
 "cells": [
  {
   "cell_type": "code",
   "execution_count": null,
   "metadata": {},
   "outputs": [],
   "source": [
    "import matplotlib\n",
    "matplotlib.use('agg')"
   ]
  },
  {
   "cell_type": "code",
   "execution_count": null,
   "metadata": {},
   "outputs": [],
   "source": [
    "%matplotlib inline"
   ]
  },
  {
   "cell_type": "code",
   "execution_count": null,
   "metadata": {},
   "outputs": [],
   "source": [
    "import phenom\n",
    "import os\n",
    "import scipy\n",
    "import pandas as pd\n",
    "import numpy as np\n",
    "import matplotlib.pyplot as plt"
   ]
  },
  {
   "cell_type": "markdown",
   "metadata": {},
   "source": [
    "# low oxidative "
   ]
  },
  {
   "cell_type": "markdown",
   "metadata": {},
   "source": [
    "## individual"
   ]
  },
  {
   "cell_type": "code",
   "execution_count": null,
   "metadata": {},
   "outputs": [],
   "source": [
    "ds = None\n",
    "\n",
    "for dr in os.listdir(\"../data/low-oxidative/\"):\n",
    "    \n",
    "    if not os.path.isdir(os.path.join(\"../data/low-oxidative/\", dr)):\n",
    "        continue\n",
    "        \n",
    "    ds = phenom.dataset.DataSet.fromDirectory(os.path.join(\"../data/low-oxidative\", dr))    \n",
    "    ds.filter()\n",
    "    ds.meta[\"mMPQ\"] = ds.meta[\"mM PQ\"]\n",
    "    \n",
    "    design = phenom.design.Formula(ds.meta, \"C(mMPQ, Sum)\")\n",
    "    model = phenom.phenotype.Phenotype(ds.data, design, model=\"phenom_deriv.stan\")\n",
    "    samples = model.samples()\n",
    "    \n",
    "    print(dr)\n",
    "    print(samples)\n",
    "    print()\n",
    "    \n",
    "    model.save(\"../samples/hsalinarum/low-oxidative/{}\".format(dr))\n",
    "    "
   ]
  },
  {
   "cell_type": "markdown",
   "metadata": {},
   "source": [
    "## full"
   ]
  },
  {
   "cell_type": "code",
   "execution_count": null,
   "metadata": {},
   "outputs": [],
   "source": [
    "ds = None\n",
    "\n",
    "for dr in os.listdir(\"../data/low-oxidative/\"):\n",
    "    \n",
    "    if not os.path.isdir(os.path.join(\"../data/low-oxidative/\", dr)):\n",
    "        continue\n",
    "    \n",
    "    if ds is None:\n",
    "        ds = phenom.dataset.DataSet.fromDirectory(os.path.join(\"../data/low-oxidative\", dr))\n",
    "    else:\n",
    "        ds = ds.concat(phenom.dataset.DataSet.fromDirectory(os.path.join(\"../data/low-oxidative\", dr)))\n",
    "        \n",
    "ds.filter()\n",
    "ds.meta[\"mMPQ\"] = ds.meta[\"mM PQ\"]"
   ]
  },
  {
   "cell_type": "code",
   "execution_count": null,
   "metadata": {},
   "outputs": [],
   "source": [
    "mnull = phenom.design.Formula(ds.meta, \"C(mMPQ, Sum)\")\n",
    "\n",
    "hierarchy = phenom.design.Formula(ds.meta, \"1\") + phenom.design.Formula(ds.meta, \"C(plate) + 0\")\n",
    "mbatch = mnull * hierarchy"
   ]
  },
  {
   "cell_type": "code",
   "execution_count": null,
   "metadata": {},
   "outputs": [],
   "source": [
    "null_phen = phenom.phenotype.Phenotype(ds.data, mnull, model=\"phenom_deriv.stan\")\n",
    "\n",
    "batch_phen = phenom.phenotype.Phenotype(ds.data, mbatch, model=\"phenom_deriv.stan\",\n",
    "                                        lengthscale_priors=[[6, 1], [6, 1], [6, 1], [6, 1]], \n",
    "                                       alpha_priors= [[10.0, 10.0], [10.0, 10.0], [7.0, 10.0], [7.0, 10.0]],\n",
    "                                       minExpectedCross=.1, maxExpectedCross=3,\n",
    "                                       sigma_prior=[.02, 20])\n",
    "\n",
    "full_phen = phenom.phenotype.Phenotype(ds.data, \n",
    "                                       mbatch, model=\"phenom_marginal.stan\", \n",
    "                                       lengthscale_priors=[[6, 1], [6, 1], [6, 1], [6, 1]], \n",
    "                                       alpha_priors= [[10.0, 10.0], [10.0, 10.0], [7.0, 10.0], [7.0, 10.0]],\n",
    "                                       marginal_lengthscale_prior=[6, 1],\n",
    "                                       marginal_alpha_prior=[2, 100],\n",
    "                                       minExpectedCross=.1, maxExpectedCross=3,\n",
    "                                       sigma_prior=[.02, 20]\n",
    "                                      )"
   ]
  },
  {
   "cell_type": "code",
   "execution_count": null,
   "metadata": {
    "scrolled": true
   },
   "outputs": [],
   "source": [
    "null_samples = null_phen.samples()"
   ]
  },
  {
   "cell_type": "code",
   "execution_count": null,
   "metadata": {},
   "outputs": [],
   "source": [
    "print(null_samples)"
   ]
  },
  {
   "cell_type": "code",
   "execution_count": null,
   "metadata": {},
   "outputs": [],
   "source": [
    "null_phen.save(\"../samples/hsalinarum/low-oxidative/null\")"
   ]
  },
  {
   "cell_type": "code",
   "execution_count": null,
   "metadata": {},
   "outputs": [],
   "source": [
    "batch_samples = batch_phen.samples()"
   ]
  },
  {
   "cell_type": "code",
   "execution_count": null,
   "metadata": {},
   "outputs": [],
   "source": [
    "print(batch_samples)"
   ]
  },
  {
   "cell_type": "code",
   "execution_count": null,
   "metadata": {},
   "outputs": [],
   "source": [
    "batch_phen.save(\"../samples/hsalinarum/low-oxidative/batch\")"
   ]
  },
  {
   "cell_type": "code",
   "execution_count": null,
   "metadata": {},
   "outputs": [],
   "source": [
    "full_samples = full_phen.samples()"
   ]
  },
  {
   "cell_type": "code",
   "execution_count": null,
   "metadata": {},
   "outputs": [],
   "source": [
    "print(full_samples)"
   ]
  },
  {
   "cell_type": "code",
   "execution_count": null,
   "metadata": {},
   "outputs": [],
   "source": [
    "full_phen.save(\"../samples/hsalinarum/low-oxidative/full\")"
   ]
  },
  {
   "cell_type": "markdown",
   "metadata": {},
   "source": [
    "# high oxidative "
   ]
  },
  {
   "cell_type": "markdown",
   "metadata": {},
   "source": [
    "## individual"
   ]
  },
  {
   "cell_type": "code",
   "execution_count": null,
   "metadata": {},
   "outputs": [],
   "source": [
    "ds = None\n",
    "\n",
    "for dr in os.listdir(\"../data/hi-oxidative/\"):\n",
    "    \n",
    "    if not os.path.isdir(os.path.join(\"../data/hi-oxidative/\", dr)):\n",
    "        continue\n",
    "        \n",
    "    ds = phenom.dataset.DataSet.fromDirectory(os.path.join(\"../data/hi-oxidative\", dr))    \n",
    "    ds.filter()\n",
    "    ds.meta[\"mMPQ\"] = ds.meta[\"mM PQ\"]\n",
    "    \n",
    "    design = phenom.design.Formula(ds.meta, \"C(mMPQ, Sum)\")\n",
    "    model = phenom.phenotype.Phenotype(ds.data, design, model=\"phenom_deriv.stan\")\n",
    "    samples = model.samples()\n",
    "    \n",
    "    print(dr)\n",
    "    print(samples)\n",
    "    print()\n",
    "    \n",
    "    model.save(\"../samples/hsalinarum/hi-oxidative/{}\".format(dr))\n",
    "    "
   ]
  },
  {
   "cell_type": "markdown",
   "metadata": {},
   "source": [
    "## full"
   ]
  },
  {
   "cell_type": "code",
   "execution_count": null,
   "metadata": {},
   "outputs": [],
   "source": [
    "ds = None\n",
    "\n",
    "for dr in os.listdir(\"../data/hi-oxidative/\"):\n",
    "    \n",
    "    if not os.path.isdir(os.path.join(\"../data/hi-oxidative/\", dr)):\n",
    "        continue\n",
    "    \n",
    "    if ds is None:\n",
    "        ds = phenom.dataset.DataSet.fromDirectory(os.path.join(\"../data/hi-oxidative\", dr))\n",
    "    else:\n",
    "        ds = ds.concat(phenom.dataset.DataSet.fromDirectory(os.path.join(\"../data/hi-oxidative\", dr)))\n",
    "        \n",
    "ds.filter()\n",
    "ds.meta[\"mMPQ\"] = ds.meta[\"mM PQ\"]"
   ]
  },
  {
   "cell_type": "code",
   "execution_count": null,
   "metadata": {},
   "outputs": [],
   "source": [
    "mnull = phenom.design.Formula(ds.meta, \"C(mMPQ, Sum)\")\n",
    "\n",
    "hierarchy = phenom.design.Formula(ds.meta, \"1\") + phenom.design.Formula(ds.meta, \"C(plate) + 0\")\n",
    "mbatch = mnull * hierarchy"
   ]
  },
  {
   "cell_type": "code",
   "execution_count": null,
   "metadata": {},
   "outputs": [],
   "source": [
    "null_phen = phenom.phenotype.Phenotype(ds.data, mnull, model=\"phenom_deriv.stan\")\n",
    "batch_phen = phenom.phenotype.Phenotype(ds.data, mbatch, model=\"phenom_deriv.stan\",\n",
    "                                       lengthscale_priors=[[6, 1], [6, 1], [6, 1], [6, 1]], \n",
    "                                       alpha_priors= [[10.0, 10.0], [10.0, 10.0], [7.0, 10.0], [7.0, 10.0]],\n",
    "                                       minExpectedCross=.1, maxExpectedCross=3,\n",
    "                                       sigma_prior=[.02, 20])"
   ]
  },
  {
   "cell_type": "code",
   "execution_count": null,
   "metadata": {},
   "outputs": [],
   "source": [
    "null_samples = null_phen.samples()"
   ]
  },
  {
   "cell_type": "code",
   "execution_count": null,
   "metadata": {
    "scrolled": true
   },
   "outputs": [],
   "source": [
    "print(null_samples)"
   ]
  },
  {
   "cell_type": "code",
   "execution_count": null,
   "metadata": {},
   "outputs": [],
   "source": [
    "null_phen.save(\"../samples/hsalinarum/hi-oxidative/null\")"
   ]
  },
  {
   "cell_type": "code",
   "execution_count": null,
   "metadata": {},
   "outputs": [],
   "source": [
    "batch_samples = batch_phen.samples()"
   ]
  },
  {
   "cell_type": "code",
   "execution_count": null,
   "metadata": {},
   "outputs": [],
   "source": [
    "batch_phen.save(\"../samples/hsalinarum/hi-oxidative/batch\")"
   ]
  },
  {
   "cell_type": "code",
   "execution_count": null,
   "metadata": {},
   "outputs": [],
   "source": [
    "print(batch_samples)"
   ]
  },
  {
   "cell_type": "code",
   "execution_count": null,
   "metadata": {},
   "outputs": [],
   "source": [
    "full_phen = phenom.phenotype.Phenotype(ds.data, \n",
    "                                       mbatch, model=\"phenom_marginal.stan\", \n",
    "                                       lengthscale_priors=[[6, 1], [6, 1], [6, 1], [6, 1]], \n",
    "                                       alpha_priors= [[10.0, 10.0], [10.0, 10.0], [7.0, 10.0], [7.0, 10.0]],\n",
    "                                       marginal_lengthscale_prior=[6, 1],\n",
    "                                       marginal_alpha_prior=[2, 100],\n",
    "                                       minExpectedCross=.1, maxExpectedCross=3,\n",
    "                                       sigma_prior=[.02, 20]\n",
    "                                      )"
   ]
  },
  {
   "cell_type": "code",
   "execution_count": null,
   "metadata": {},
   "outputs": [],
   "source": [
    "full_samples = full_phen.samples()"
   ]
  },
  {
   "cell_type": "code",
   "execution_count": null,
   "metadata": {
    "scrolled": true
   },
   "outputs": [],
   "source": [
    "print(full_samples)"
   ]
  },
  {
   "cell_type": "code",
   "execution_count": null,
   "metadata": {},
   "outputs": [],
   "source": [
    "full_phen.save(\"../samples/hsalinarum/hi-oxidative/full\")"
   ]
  },
  {
   "cell_type": "code",
   "execution_count": null,
   "metadata": {},
   "outputs": [],
   "source": []
  }
 ],
 "metadata": {
  "kernelspec": {
   "display_name": "Python 3",
   "language": "python",
   "name": "python3"
  },
  "language_info": {
   "codemirror_mode": {
    "name": "ipython",
    "version": 3
   },
   "file_extension": ".py",
   "mimetype": "text/x-python",
   "name": "python",
   "nbconvert_exporter": "python",
   "pygments_lexer": "ipython3",
   "version": "3.6.7"
  }
 },
 "nbformat": 4,
 "nbformat_minor": 2
}
