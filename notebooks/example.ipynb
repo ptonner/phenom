{
 "cells": [
  {
   "cell_type": "markdown",
   "metadata": {},
   "source": [
    "This notebook provides a simple example of the Bayesian hierarchical modeling that is possible with *phenom*. Three functional replicates are sampled from the model: y = f(x) + r<sub>i</sub>(x) + &epsilon;(x), for some function f and replicate functions r<sub>i</sub>(x). Analysis is then performed with the *phenom* package."
   ]
  },
  {
   "cell_type": "code",
   "execution_count": 1,
   "metadata": {},
   "outputs": [],
   "source": [
    "%matplotlib inline"
   ]
  },
  {
   "cell_type": "code",
   "execution_count": 2,
   "metadata": {},
   "outputs": [],
   "source": [
    "import GPy, scipy\n",
    "from phenom.design import Formula\n",
    "from phenom.phenotype import Phenotype\n",
    "import pandas as pd\n",
    "import numpy as np\n",
    "import matplotlib.pyplot as plt"
   ]
  },
  {
   "cell_type": "markdown",
   "metadata": {},
   "source": [
    "Below we generate the three functional replicates. As can be seen in the generated figure, the true function f (black) corrupted by replicate curves (colored lines) and the corresponding observations (data points)."
   ]
  },
  {
   "cell_type": "code",
   "execution_count": 34,
   "metadata": {},
   "outputs": [
    {
     "data": {
      "image/png": "[encoded data removed]",
      "text/plain": [
       "<Figure size 432x288 with 1 Axes>"
      ]
     },
     "metadata": {
      "needs_background": "light"
     },
     "output_type": "display_data"
    }
   ],
   "source": [
    "np.random.seed(111)\n",
    "\n",
    "# number of sample points\n",
    "n = 20\n",
    "\n",
    "# number of replicates\n",
    "r = 3\n",
    "\n",
    "# construct the sample space\n",
    "x = np.linspace(-1, 1, n)[:,None]\n",
    "\n",
    "# kernels for main effect and replicate effect\n",
    "k1 = GPy.kern.RBF(1)\n",
    "k2 = GPy.kern.RBF(1, variance=.2)\n",
    "\n",
    "# sample main and replicate functions\n",
    "mu = scipy.stats.multivariate_normal.rvs(np.zeros(n), k1.K(x))\n",
    "b = scipy.stats.multivariate_normal.rvs(np.zeros(n), k2.K(x), size=r)\n",
    "\n",
    "# build the design matrix\n",
    "d = np.zeros((r, r+1))\n",
    "d[:,0] = 1\n",
    "d[:,1:] = np.eye(r)\n",
    "\n",
    "# build the mean and sample data\n",
    "yhat = np.dot(d, np.concatenate((mu[:,None], b.T), 1).T)\n",
    "y = yhat + scipy.stats.norm.rvs(scale=.1, size=yhat.shape)\n",
    "\n",
    "plt.plot(x[:,0], yhat.T)\n",
    "for i in range(r):\n",
    "    plt.scatter(x, y[i, :])\n",
    "plt.plot(x, mu, c='k');"
   ]
  },
  {
   "cell_type": "markdown",
   "metadata": {},
   "source": [
    "Below we use *phenom* to analyze the generated data. A metadata dataframe is constructed describing the replicate number for each curve. A formula describing the mean process (mnull) and complete model with mean and replicate (mfull) is then build. *Phenotype* objects are then created to perform analysis."
   ]
  },
  {
   "cell_type": "code",
   "execution_count": 35,
   "metadata": {},
   "outputs": [],
   "source": [
    "# construct metadata and data\n",
    "meta = pd.DataFrame(np.where(d[:,1:]!=0)[1], columns=['batch'])\n",
    "data = pd.DataFrame(y.T, index=x[:,0])\n",
    "\n",
    "# build design matrix\n",
    "mnull = Formula(meta, '1')\n",
    "mfull = mnull + Formula(meta, 'C(batch) + 0')\n",
    "\n",
    "# build phenotypes\n",
    "mn = Phenotype(data, mnull, maxExpectedCross=4, minExpectedCross=.1)\n",
    "mf = Phenotype(data, mfull, maxExpectedCross=4, minExpectedCross=.1)"
   ]
  },
  {
   "cell_type": "code",
   "execution_count": 28,
   "metadata": {},
   "outputs": [
    {
     "name": "stderr",
     "output_type": "stream",
     "text": [
      "INFO:pystan:COMPILING THE C++ CODE FOR MODEL anon_model_b94a1a41f39d75712eac6284f5183d7d NOW.\n",
      " /anaconda3/envs/phenom-final/lib/python3.7/site-packages/Cython/Compiler/Main.py:367: FutureWarning:Cython directive 'language_level' not set, using 2 for now (Py2). This will change in a later release! File: /var/folders/cz/7j2rv40n30z87t2fq2c51vrh001wdz/T/tmpaxwanrl5/stanfit4anon_model_b94a1a41f39d75712eac6284f5183d7d_9079369242104743034.pyx\n",
      "WARNING:pystan:21 of 4000 iterations ended with a divergence (0.525%).\n",
      "WARNING:pystan:Try running with adapt_delta larger than 0.8 to remove the divergences.\n",
      "INFO:pystan:COMPILING THE C++ CODE FOR MODEL anon_model_b94a1a41f39d75712eac6284f5183d7d NOW.\n",
      " /anaconda3/envs/phenom-final/lib/python3.7/site-packages/Cython/Compiler/Main.py:367: FutureWarning:Cython directive 'language_level' not set, using 2 for now (Py2). This will change in a later release! File: /var/folders/cz/7j2rv40n30z87t2fq2c51vrh001wdz/T/tmp7cpuunm3/stanfit4anon_model_b94a1a41f39d75712eac6284f5183d7d_2056211295420878780.pyx\n",
      "WARNING:pystan:40 of 4000 iterations ended with a divergence (1.0%).\n",
      "WARNING:pystan:Try running with adapt_delta larger than 0.8 to remove the divergences.\n",
      "WARNING:pystan:1 of 4000 iterations saturated the maximum tree depth of 10 (0.025%)\n",
      "WARNING:pystan:Run again with max_treedepth larger than 10 to avoid saturation\n"
     ]
    }
   ],
   "source": [
    "# this generates posterior samples of the different models\n",
    "# the majority of computation time will be spent here (on model compilation)\n",
    "\n",
    "nsamples = mn.samples()\n",
    "fsamples = mf.samples()"
   ]
  },
  {
   "cell_type": "markdown",
   "metadata": {},
   "source": [
    "Below we analyze the results of each model. Both appear to have converged, as represented by the rhat metric. Additionally, in the plot of posterior intervals, we see that the complete model has accurately captured the uncertainty due to replicate variation and the corresponding interval covers the true function."
   ]
  },
  {
   "cell_type": "code",
   "execution_count": 29,
   "metadata": {
    "scrolled": true
   },
   "outputs": [
    {
     "data": {
      "text/plain": [
       "Inference for Stan model: anon_model_b94a1a41f39d75712eac6284f5183d7d.\n",
       "4 chains, each with iter=2000; warmup=1000; thin=1; \n",
       "post-warmup draws per chain=1000, total post-warmup draws=4000.\n",
       "\n",
       "                 mean se_mean     sd   2.5%    25%    50%    75%  97.5%  n_eff   Rhat\n",
       "lengthscale[1]   0.45  4.5e-3   0.14   0.22   0.35   0.44   0.53   0.78    986    1.0\n",
       "alpha[1]          2.0    0.03   0.92   0.76   1.34   1.81   2.47   4.31   1095    1.0\n",
       "sigma            0.65  9.9e-4   0.06   0.54    0.6   0.64   0.68   0.79   4122    1.0\n",
       "f_eta[1,1]      -0.83    0.01   0.37  -1.74  -1.02  -0.76  -0.56  -0.32   1080    1.0\n",
       "f_eta[1,2]        1.4    0.01   0.56   0.35   1.01   1.38   1.76   2.57   2756    1.0\n",
       "f_eta[1,3]       0.18    0.02    0.8  -1.46  -0.34   0.17   0.69   1.74   2474    1.0\n",
       "f_eta[1,4]      -0.23    0.02   0.92  -2.06  -0.83  -0.22    0.4   1.56   2645    1.0\n",
       "f_eta[1,5]      -0.35    0.02   0.93  -2.16  -0.98  -0.35   0.28   1.45   2678    1.0\n",
       "f_eta[1,6]      -0.41    0.02   0.92  -2.23  -1.04  -0.42    0.2   1.36   3376    1.0\n",
       "f_eta[1,7]      -0.38    0.01   0.95  -2.21  -1.02  -0.38   0.24   1.51   4346    1.0\n",
       "f_eta[1,8]      -0.35    0.01   0.96  -2.22  -1.01  -0.34   0.29   1.53   4532    1.0\n",
       "f_eta[1,9]      -0.31    0.02   0.97  -2.18  -0.96  -0.34   0.37    1.6   3966    1.0\n",
       "f_eta[1,10]     -0.28    0.01   0.97  -2.14  -0.94  -0.29   0.39   1.59   4752    1.0\n",
       "f_eta[1,11]     -0.21    0.01   0.99  -2.08  -0.87  -0.23   0.43   1.79   4659    1.0\n",
       "f_eta[1,12]     -0.14    0.02   1.01  -2.09  -0.83  -0.16   0.55   1.89   4258    1.0\n",
       "f_eta[1,13]     -0.11    0.02   1.01   -2.0   -0.8  -0.12   0.57   1.89   3917    1.0\n",
       "f_eta[1,14]     -0.07    0.01   0.97  -1.95  -0.74  -0.08   0.58   1.85   4481    1.0\n",
       "f_eta[1,15]     -0.04    0.01   1.01  -2.03  -0.73  -0.05   0.65   1.95   4831    1.0\n",
       "f_eta[1,16]     -0.02    0.02    1.0  -1.93   -0.7  -0.02   0.65   1.93   4180    1.0\n",
       "f_eta[1,17]   -5.1e-3    0.01    1.0  -1.96  -0.67-5.8e-3   0.65   1.96   5498    1.0\n",
       "f_eta[1,18]     -0.01    0.01    1.0   -1.9   -0.7-4.4e-3   0.67   1.93   5328    1.0\n",
       "f_eta[1,19]    7.9e-3    0.01   1.01  -1.91  -0.67 1.7e-3   0.69   1.92   4950    1.0\n",
       "f_eta[1,20]     -0.01    0.01   0.98   -2.0  -0.68  -0.03   0.66   1.91   4877    1.0\n",
       "f[1,1]           -1.4  4.5e-3   0.26  -1.93  -1.57   -1.4  -1.22  -0.88   3377    1.0\n",
       "f[1,2]          -1.08  3.3e-3    0.2  -1.47  -1.21  -1.08  -0.95  -0.69   3683    1.0\n",
       "f[1,3]          -0.74  2.8e-3   0.17  -1.08  -0.85  -0.74  -0.63  -0.42   3548    1.0\n",
       "f[1,4]           -0.4  2.5e-3   0.15  -0.71   -0.5  -0.39  -0.29   -0.1   3700    1.0\n",
       "f[1,5]          -0.06  2.4e-3   0.15  -0.36  -0.16  -0.06   0.04   0.23   4108    1.0\n",
       "f[1,6]           0.24  2.3e-3   0.15  -0.06   0.14   0.23   0.34   0.53   4248    1.0\n",
       "f[1,7]           0.49  2.3e-3   0.15    0.2    0.4   0.49    0.6   0.79   4194    1.0\n",
       "f[1,8]            0.7  2.3e-3   0.15    0.4    0.6    0.7   0.79   0.99   4071    1.0\n",
       "f[1,9]           0.84  2.3e-3   0.15   0.55   0.74   0.84   0.93   1.12   4023    1.0\n",
       "f[1,10]          0.91  2.3e-3   0.15   0.63   0.81   0.91   1.01    1.2   4071    1.0\n",
       "f[1,11]          0.92  2.3e-3   0.15   0.64   0.82   0.92   1.01   1.21   4132    1.0\n",
       "f[1,12]          0.86  2.2e-3   0.14   0.58   0.76   0.86   0.95   1.15   4114    1.0\n",
       "f[1,13]          0.73  2.3e-3   0.14   0.45   0.63   0.73   0.82   1.03   4008    1.0\n",
       "f[1,14]          0.55  2.3e-3   0.15   0.27   0.45   0.55   0.64   0.84   3897    1.0\n",
       "f[1,15]          0.31  2.4e-3   0.15   0.01   0.22   0.31   0.41   0.61   3856    1.0\n",
       "f[1,16]          0.04  2.4e-3   0.15  -0.26  -0.06   0.04   0.14   0.33   3847    1.0\n",
       "f[1,17]         -0.25  2.5e-3   0.15  -0.57  -0.35  -0.25  -0.15   0.04   3722    1.0\n",
       "f[1,18]         -0.55  2.8e-3   0.17  -0.88  -0.66  -0.55  -0.44  -0.23   3560    1.0\n",
       "f[1,19]         -0.85  3.3e-3    0.2  -1.23  -0.98  -0.85  -0.72  -0.45   3601    1.0\n",
       "f[1,20]         -1.11  4.3e-3   0.26  -1.61  -1.29  -1.12  -0.94   -0.6   3582    1.0\n",
       "lp__           -18.27     0.1   3.62  -26.2 -20.48 -17.89 -15.63 -12.42   1327   1.01\n",
       "\n",
       "Samples were drawn using NUTS at Wed Jun 12 12:19:11 2019.\n",
       "For each parameter, n_eff is a crude measure of effective sample size,\n",
       "and Rhat is the potential scale reduction factor on split chains (at \n",
       "convergence, Rhat=1)."
      ]
     },
     "execution_count": 29,
     "metadata": {},
     "output_type": "execute_result"
    }
   ],
   "source": [
    "nsamples"
   ]
  },
  {
   "cell_type": "code",
   "execution_count": 30,
   "metadata": {},
   "outputs": [
    {
     "name": "stderr",
     "output_type": "stream",
     "text": [
      "WARNING:pystan:Truncated summary with the 'fit.__repr__' method. For the full summary use 'print(fit)'\n"
     ]
    },
    {
     "data": {
      "text/plain": [
       "\n",
       "Warning: Shown data is truncated to 100 parameters\n",
       "For the full summary use 'print(fit)'\n",
       "\n",
       "Inference for Stan model: anon_model_b94a1a41f39d75712eac6284f5183d7d.\n",
       "4 chains, each with iter=2000; warmup=1000; thin=1; \n",
       "post-warmup draws per chain=1000, total post-warmup draws=4000.\n",
       "\n",
       "                 mean se_mean     sd   2.5%    25%    50%    75%  97.5%  n_eff   Rhat\n",
       "lengthscale[1]   0.57  5.7e-3   0.19   0.28   0.43   0.55   0.67   0.94   1103    1.0\n",
       "lengthscale[2]   0.57  5.1e-3   0.19   0.32   0.45   0.53   0.64   1.04   1412    1.0\n",
       "alpha[1]         2.68    0.03   1.15   1.05   1.85   2.48   3.29   5.51   1679    1.0\n",
       "alpha[2]         0.99  9.7e-3   0.41   0.49   0.72   0.89   1.16   2.05   1782    1.0\n",
       "sigma            0.21  3.5e-4   0.02   0.17    0.2   0.21   0.23   0.26   4177    1.0\n",
       "f_eta[1,1]      -0.63  8.8e-3   0.36  -1.49  -0.82  -0.58  -0.39  -0.05   1725    1.0\n",
       "f_eta[2,1]      -0.53    0.01   0.59  -1.66  -0.93  -0.53  -0.13   0.67   2415    1.0\n",
       "f_eta[3,1]      -0.33    0.01   0.59  -1.47  -0.73  -0.33   0.07   0.81   2292    1.0\n",
       "f_eta[4,1]       0.52    0.01   0.63  -0.69   0.09   0.52   0.95   1.78   2166    1.0\n",
       "f_eta[1,2]       1.68  9.8e-3   0.48   0.85   1.34   1.65   1.99    2.7   2389    1.0\n",
       "f_eta[2,2]      -0.13    0.01    0.7  -1.55  -0.59  -0.12   0.34   1.23   3668    1.0\n",
       "f_eta[3,2]       0.63    0.01   0.72  -0.81   0.15   0.63   1.12   2.06   3503    1.0\n",
       "f_eta[4,2]       0.27    0.02    0.8  -1.39  -0.25    0.3   0.82   1.76   2495    1.0\n",
       "f_eta[1,3]      -0.67    0.01   0.63  -2.02  -1.06  -0.65  -0.25   0.53   2884    1.0\n",
       "f_eta[2,3]       0.07    0.01   0.85  -1.57  -0.52   0.08   0.63   1.75   4758    1.0\n",
       "f_eta[3,3]       0.88    0.01   0.87  -0.84   0.29   0.88   1.46   2.58   5537    1.0\n",
       "f_eta[4,3]      -1.21    0.01   0.88  -2.93   -1.8  -1.22  -0.63   0.55   4628    1.0\n",
       "f_eta[1,4]      -0.25    0.02   0.94  -2.14  -0.88   -0.2   0.42   1.45   2701    1.0\n",
       "f_eta[2,4]        0.3    0.01    0.9  -1.44  -0.29    0.3   0.91   2.05   4433    1.0\n",
       "f_eta[3,4]        0.5    0.01   0.97  -1.38  -0.16   0.49   1.17   2.38   5073    1.0\n",
       "f_eta[4,4]      -0.91    0.01   0.91  -2.68  -1.52  -0.91  -0.29   0.84   6768    1.0\n",
       "f_eta[1,5]      -0.36    0.02   0.92  -2.19  -1.01  -0.36   0.26   1.42   3088    1.0\n",
       "f_eta[2,5]       0.24    0.01   0.92  -1.51  -0.39   0.24   0.88   2.04   6777    1.0\n",
       "f_eta[3,5]       0.19    0.01   0.96  -1.69  -0.46    0.2   0.84   2.04   5891    1.0\n",
       "f_eta[4,5]      -0.58    0.01   0.96  -2.45  -1.25  -0.58    0.1   1.27   6361    1.0\n",
       "f_eta[1,6]      -0.52    0.01   0.89  -2.19  -1.12  -0.54   0.07   1.22   4933    1.0\n",
       "f_eta[2,6]       0.09    0.01   0.99  -1.88  -0.56   0.08   0.72   2.04   6530    1.0\n",
       "f_eta[3,6]        0.1    0.01   0.94   -1.8  -0.52   0.11   0.72    1.9   7130    1.0\n",
       "f_eta[4,6]      -0.43    0.01   0.95  -2.24  -1.08  -0.43   0.18   1.49   5561    1.0\n",
       "f_eta[1,7]      -0.45    0.01   0.92  -2.25  -1.07  -0.46   0.16   1.41   5459    1.0\n",
       "f_eta[2,7]     7.5e-3    0.01   0.94  -1.82  -0.64   0.01   0.65   1.79   7490    1.0\n",
       "f_eta[3,7]       0.09    0.01   0.97  -1.86  -0.58   0.08   0.75   1.97   7971    1.0\n",
       "f_eta[4,7]       -0.3    0.01   1.02   -2.3  -0.99   -0.3   0.38   1.77   6520    1.0\n",
       "f_eta[1,8]      -0.36    0.01   0.97  -2.27  -1.01  -0.34   0.28   1.57   6305    1.0\n",
       "f_eta[2,8]      -0.03    0.01   0.99  -1.99  -0.72  -0.03   0.65   1.86   7621    1.0\n",
       "f_eta[3,8]       0.06    0.01    1.0  -1.89  -0.61   0.07   0.72   2.02   6713    1.0\n",
       "f_eta[4,8]      -0.22    0.01   1.02  -2.25  -0.91  -0.21   0.46   1.81   6259    1.0\n",
       "f_eta[1,9]      -0.28    0.01   0.99  -2.25  -0.94   -0.3   0.37   1.74   6334    1.0\n",
       "f_eta[2,9]      -0.05    0.01   0.97  -2.02   -0.7  -0.05    0.6   1.86   7897    1.0\n",
       "f_eta[3,9]       0.09    0.01   0.96   -1.8  -0.59    0.1   0.74   1.99   7519    1.0\n",
       "f_eta[4,9]      -0.17    0.01    1.0  -2.07  -0.86  -0.14   0.53   1.77   7432    1.0\n",
       "f_eta[1,10]     -0.21    0.01   0.96  -2.12  -0.85  -0.22   0.43   1.67   7349    1.0\n",
       "f_eta[2,10]     -0.05    0.01    1.0  -2.01  -0.69  -0.06   0.64   1.89   7195    1.0\n",
       "f_eta[3,10]      0.06    0.01   1.02  -1.95  -0.65   0.06   0.76   2.02   8943    1.0\n",
       "f_eta[4,10]     -0.12    0.01   0.98  -2.04  -0.77  -0.12   0.53   1.87   7750    1.0\n",
       "f_eta[1,11]     -0.14    0.01   0.97  -2.01   -0.8  -0.15   0.51   1.74   7206    1.0\n",
       "f_eta[2,11]     -0.03    0.01   0.99  -2.01   -0.7-9.6e-3   0.63   1.88   7906    1.0\n",
       "f_eta[3,11]      0.07    0.01    1.0  -1.89  -0.62   0.09   0.77   2.01   8092    1.0\n",
       "f_eta[4,11]      -0.1    0.01   1.02  -2.05   -0.8  -0.12   0.59   1.93   8538    1.0\n",
       "f_eta[1,12]      -0.1    0.01   0.98  -2.04  -0.75   -0.1   0.57    1.8   8521    1.0\n",
       "f_eta[2,12]     -0.03    0.01    1.0  -2.02   -0.7  -0.03   0.65   1.96   8764    1.0\n",
       "f_eta[3,12]      0.04    0.01    1.0   -1.9  -0.65   0.04   0.71   2.05   8701    1.0\n",
       "f_eta[4,12]     -0.07    0.01   0.96   -2.0   -0.7  -0.06   0.59   1.79   7578    1.0\n",
       "f_eta[1,13]     -0.07    0.01   1.01  -2.04  -0.74  -0.09   0.62   1.92   7166    1.0\n",
       "f_eta[2,13]     -0.02  9.9e-3   1.01  -1.96  -0.71  -0.01   0.66   1.98  10335    1.0\n",
       "f_eta[3,13]      0.03    0.01   1.02  -1.95  -0.64   0.02   0.71   2.05   7980    1.0\n",
       "f_eta[4,13]     -0.04    0.01   1.02  -2.02  -0.74  -0.04   0.67   1.92   7592    1.0\n",
       "f_eta[1,14]     -0.03    0.01   0.98   -1.9  -0.71  -0.04   0.63    1.9   7792    1.0\n",
       "f_eta[2,14]   -3.9e-3  9.6e-3   0.97  -1.89  -0.64  -0.01   0.63   1.92  10223    1.0\n",
       "f_eta[3,14]      0.01    0.01    1.0  -1.93  -0.69   0.02   0.68   1.97   9216    1.0\n",
       "f_eta[4,14]   -6.2e-3    0.01   1.02  -1.99  -0.72-9.2e-3    0.7   1.96   8512    1.0\n",
       "f_eta[1,15]     -0.03    0.01   1.01   -2.0  -0.73  -0.03   0.68   1.94   8131    1.0\n",
       "f_eta[2,15]    1.1e-3    0.01   0.99  -1.99  -0.68 1.4e-3   0.65    2.0   7666    1.0\n",
       "f_eta[3,15]      0.03    0.01   0.98  -1.87  -0.64   0.02    0.7   1.97   8771    1.0\n",
       "f_eta[4,15]    7.5e-3    0.01   0.97  -1.93  -0.64  -0.01   0.65   1.94   9113    1.0\n",
       "f_eta[1,16]    1.7e-3    0.01    1.0  -1.93  -0.69-3.8e-3   0.66   1.96   7947    1.0\n",
       "f_eta[2,16]    6.0e-3    0.01   0.95  -1.88  -0.64 9.9e-3   0.65   1.85   8685    1.0\n",
       "f_eta[3,16]      0.02    0.01   0.99  -1.91  -0.64   0.03   0.67   2.03   9603    1.0\n",
       "f_eta[4,16]     -0.01    0.01   0.99  -2.04  -0.66  -0.01   0.64   1.88   6812    1.0\n",
       "f_eta[1,17]   -7.9e-3    0.01    1.0  -1.93  -0.69  -0.04   0.68   1.94   7411    1.0\n",
       "f_eta[2,17]    7.2e-3    0.01   0.98  -1.93  -0.66   0.02   0.67   1.95   8185    1.0\n",
       "f_eta[3,17]      0.02    0.01   0.99  -1.88  -0.68   0.01   0.72   1.91   7385    1.0\n",
       "f_eta[4,17]    9.9e-4    0.01   1.02   -2.1  -0.66 1.2e-3   0.67   1.99   8684    1.0\n",
       "f_eta[1,18]   -1.5e-3    0.01   0.98   -1.9  -0.69-5.5e-3   0.68   1.91   7748    1.0\n",
       "f_eta[2,18]    6.2e-3    0.01   1.01  -1.96  -0.67-4.2e-3   0.69   1.95   8776    1.0\n",
       "f_eta[3,18]   -9.2e-3    0.01   1.02  -2.03  -0.69  -0.02   0.67   2.03   8088    1.0\n",
       "f_eta[4,18]    3.0e-3    0.01   1.02   -2.0  -0.67 1.8e-4   0.68   2.02   8557    1.0\n",
       "f_eta[1,19]   -2.6e-3    0.01   1.03  -2.01  -0.71-4.0e-3   0.72   1.96   7787    1.0\n",
       "f_eta[2,19]    8.3e-3    0.01   0.99   -1.9  -0.66   0.01   0.66   1.97   7992    1.0\n",
       "f_eta[3,19]    4.9e-3    0.01   1.02  -1.99  -0.68  -0.01   0.69   2.06   7834    1.0\n",
       "f_eta[4,19]   -5.7e-3    0.01   1.04  -2.02  -0.71-7.6e-3   0.71   1.99  10380    1.0\n",
       "f_eta[1,20]   -5.8e-3    0.01    1.0  -1.96  -0.66  -0.01   0.65   2.02   8857    1.0\n",
       "f_eta[2,20]   -8.5e-3    0.01   0.97  -1.89  -0.66-7.3e-3   0.66   1.85   7996    1.0\n",
       "f_eta[3,20]    6.3e-3    0.01   0.99  -1.91  -0.67   0.01    0.7   1.96   8532    1.0\n",
       "f_eta[4,20]   -8.4e-3    0.01   0.96  -1.85  -0.67  -0.01   0.64   1.85   8900    1.0\n",
       "f[1,1]          -1.46    0.01   0.63  -2.64  -1.84  -1.49  -1.12  -0.13   1966    1.0\n",
       "f[2,1]          -0.49    0.01   0.62  -1.82  -0.84  -0.47  -0.11    0.7   1992    1.0\n",
       "f[3,1]          -0.32    0.01   0.63  -1.67  -0.66  -0.29   0.06   0.87   1958    1.0\n",
       "f[4,1]           0.43    0.01   0.62  -0.87   0.09   0.46    0.8   1.61   2049    1.0\n",
       "f[1,2]          -1.06    0.01   0.62  -2.23  -1.43  -1.09  -0.71   0.26   1974    1.0\n",
       "f[2,2]           -0.5    0.01   0.62   -1.8  -0.85  -0.47  -0.12   0.67   1991    1.0\n",
       "f[3,2]          -0.26    0.01   0.62  -1.58   -0.6  -0.24   0.12   0.92   1972    1.0\n",
       "f[4,2]           0.46    0.01   0.62  -0.83   0.11   0.48   0.83   1.64   2039    1.0\n",
       "f[1,3]          -0.67    0.01   0.61  -1.84  -1.04  -0.69  -0.33   0.62   1982    1.0\n",
       "f[2,3]           -0.5    0.01   0.62  -1.76  -0.84  -0.48  -0.12   0.67   1994    1.0\n",
       "f[3,3]          -0.19    0.01   0.62  -1.48  -0.54  -0.17   0.18    1.0   1989    1.0\n",
       "f[4,3]           0.47    0.01   0.61  -0.82   0.13   0.49   0.85   1.65   2020    1.0\n",
       "f[1,4]          -0.31    0.01   0.61  -1.48  -0.68  -0.32   0.04   0.97   1982    1.0\n",
       "f[2,4]          -0.49    0.01   0.61  -1.75  -0.84  -0.48  -0.12   0.67   1998    1.0\n",
       "lp__            15.06     0.2   7.16  -0.01  10.43  15.49  19.94  27.94   1287    1.0\n",
       "\n",
       "Samples were drawn using NUTS at Wed Jun 12 12:20:33 2019.\n",
       "For each parameter, n_eff is a crude measure of effective sample size,\n",
       "and Rhat is the potential scale reduction factor on split chains (at \n",
       "convergence, Rhat=1)."
      ]
     },
     "execution_count": 30,
     "metadata": {},
     "output_type": "execute_result"
    }
   ],
   "source": [
    "fsamples"
   ]
  },
  {
   "cell_type": "code",
   "execution_count": 31,
   "metadata": {},
   "outputs": [],
   "source": [
    "nsamp = nsamples.extract()\n",
    "fsamp = fsamples.extract()"
   ]
  },
  {
   "cell_type": "code",
   "execution_count": 32,
   "metadata": {},
   "outputs": [
    {
     "data": {
      "text/plain": [
       "[<matplotlib.lines.Line2D at 0x1a218898d0>]"
      ]
     },
     "execution_count": 32,
     "metadata": {},
     "output_type": "execute_result"
    },
    {
     "data": {
      "image/png": "[encoded data removed]",
      "text/plain": [
       "<Figure size 432x288 with 1 Axes>"
      ]
     },
     "metadata": {
      "needs_background": "light"
     },
     "output_type": "display_data"
    }
   ],
   "source": [
    "ind = 0\n",
    "m = nsamp['f'][:,ind,:].mean(0)\n",
    "s = nsamp['f'][:,ind,:].std(0)\n",
    "\n",
    "plt.plot(x, m)\n",
    "plt.fill_between(x[:,0], m-2*s, m+2*s, alpha=.4)\n",
    "\n",
    "m = fsamp['f'][:,ind,:].mean(0)\n",
    "s = fsamp['f'][:,ind,:].std(0)\n",
    "\n",
    "plt.plot(x, m)\n",
    "plt.fill_between(x[:,0], m-2*s, m+2*s, alpha=.4)\n",
    "\n",
    "plt.plot(x, mu, c='k')"
   ]
  },
  {
   "cell_type": "code",
   "execution_count": null,
   "metadata": {},
   "outputs": [],
   "source": []
  },
  {
   "cell_type": "code",
   "execution_count": null,
   "metadata": {},
   "outputs": [],
   "source": []
  }
 ],
 "metadata": {
  "kernelspec": {
   "display_name": "Python 3",
   "language": "python",
   "name": "python3"
  },
  "language_info": {
   "codemirror_mode": {
    "name": "ipython",
    "version": 3
   },
   "file_extension": ".py",
   "mimetype": "text/x-python",
   "name": "python",
   "nbconvert_exporter": "python",
   "pygments_lexer": "ipython3",
   "version": "3.7.2"
  }
 },
 "nbformat": 4,
 "nbformat_minor": 2
}
